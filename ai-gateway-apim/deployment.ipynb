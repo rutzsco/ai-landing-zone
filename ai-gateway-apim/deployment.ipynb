{
 "cells": [
  {
   "cell_type": "markdown",
   "id": "e63804ad",
   "metadata": {},
   "source": [
    "# Azure API Management Deployment\n",
    "\n",
    "This notebook demonstrates how to use the Azure CLI within a Jupyter Notebook to authenticate and deploy an Azure API Management instance using Bicep templates.\n",
    "\n",
    "### Prerequisites\n",
    "\n",
    "Before you begin, ensure you have the following installed:\n",
    "1. **Azure CLI**: [Installation Guide](https://docs.microsoft.com/en-us/cli/azure/install-azure-cli)\n",
    "2. **Jupyter Notebook**: [Installation Guide](https://jupyter.org/install)\n",
    "3. **Bicep**: The Azure CLI will prompt you to install the Bicep tools on first use if they are not already present. You can also install it manually: [Installation Guide](https://docs.microsoft.com/en-us/azure/azure-resource-manager/bicep/install)"
   ]
  },
  {
   "cell_type": "markdown",
   "id": "bbdf549c",
   "metadata": {},
   "source": [
    "## Step 1: Log in to Azure\n",
    "\n",
    "Run the following cell to log in to your Azure account. A new browser window or tab will open, prompting you to enter your credentials.\n",
    "\n",
    "You can optionally specify a tenant ID by adding `--tenant YOUR_TENANT_ID` to the command."
   ]
  },
  {
   "cell_type": "code",
   "execution_count": null,
   "id": "d78facbe",
   "metadata": {},
   "outputs": [],
   "source": [
    "!az login --tenant 16b3c013-d300-468d-ac64-7eda0820b6d3"
   ]
  },
  {
   "cell_type": "markdown",
   "id": "e90fe164",
   "metadata": {},
   "source": [
    "## Step 2: Deploy the API Management Instance\n",
    "\n",
    "Now, we'll execute the Bicep deployment using both the template file and parameter file. The `az deployment group create` command initiates the deployment to the specified resource group.\n",
    "\n",
    "The deployment will use:\n",
    "- **Template file**: `main.bicep` - The main infrastructure template\n",
    "- **Parameter file**: `parameters/dev.bicepparam` - Configuration values for the deployment\n",
    "\n",
    "⏱️ **Note**: API Management deployment typically takes 30-45 minutes to complete."
   ]
  },
  {
   "cell_type": "code",
   "execution_count": null,
   "id": "6573e73a",
   "metadata": {},
   "outputs": [],
   "source": [
    "# Deploy the API Management instance using Bicep\n",
    "!az deployment group create \\\n",
    "    --resource-group rutzsco-core-ai \\\n",
    "    --template-file main.bicep \\\n",
    "    --parameters parameters/dev.bicepparam"
   ]
  },
  {
   "cell_type": "markdown",
   "id": "f3ad893c",
   "metadata": {},
   "source": [
    "## Deployment Complete! 🎉\n",
    "\n",
    "Your Azure API Management instance has been successfully deployed. You can now:\n",
    "\n",
    "1. **Access the Azure Portal** to configure your APIs\n",
    "2. **Import APIs** using OpenAPI specifications\n",
    "3. **Set up authentication** and authorization policies\n",
    "4. **Configure rate limiting** and other policies\n",
    "5. **Access the Developer Portal** for API documentation\n",
    "\n",
    "### Next Steps\n",
    "\n",
    "- Visit the [API Management documentation](https://docs.microsoft.com/en-us/azure/api-management/) for configuration guidance\n",
    "- Check the deployment outputs above for URLs and resource details\n",
    "- Consider setting up monitoring with Application Insights"
   ]
  }
 ],
 "metadata": {
  "kernelspec": {
   "display_name": "Python 3",
   "language": "python",
   "name": "python3"
  },
  "language_info": {
   "codemirror_mode": {
    "name": "ipython",
    "version": 3
   },
   "file_extension": ".py",
   "mimetype": "text/x-python",
   "name": "python",
   "nbconvert_exporter": "python",
   "pygments_lexer": "ipython3",
   "version": "3.11.9"
  }
 },
 "nbformat": 4,
 "nbformat_minor": 5
}
