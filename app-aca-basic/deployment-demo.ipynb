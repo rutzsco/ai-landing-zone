{
 "cells": [
  {
   "cell_type": "markdown",
   "metadata": {},
   "source": [
    "# Deployment Sample\n",
    "\n",
    "This notebook demonstrates how to use the Azure CLI within a Jupyter Notebook to authenticate, create a resource group, and deploy a Bicep template.\n",
    "\n",
    "### Prerequisites\n",
    "\n",
    "Before you begin, ensure you have the following installed:\n",
    "1.  **Azure CLI**: [Installation Guide](https://docs.microsoft.com/en-us/cli/azure/install-azure-cli)\n",
    "2.  **Jupyter Notebook**: [Installation Guide](https://jupyter.org/install)\n",
    "3.  **Bicep**: The Azure CLI will prompt you to install the Bicep tools on first use if they are not already present. You can also install it manually: [Installation Guide](https://docs.microsoft.com/en-us/azure/azure-resource-manager/bicep/install)"
   ]
  },
  {
   "cell_type": "markdown",
   "metadata": {},
   "source": [
    "## Step 1: Log in to Azure\n",
    "\n",
    "Run the following cell to log in to your Azure account with a specific tenant ID. A new browser window or tab will open, prompting you to enter your credentials.\n",
    "\n",
    "Replace `YOUR_TENANT_ID` with your actual Azure AD tenant ID."
   ]
  },
  {
   "cell_type": "code",
   "execution_count": null,
   "metadata": {},
   "outputs": [],
   "source": [
    "!az login --tenant 16b3c013-d300-468d-ac64-7eda0820b6d3"
   ]
  },
  {
   "cell_type": "markdown",
   "metadata": {},
   "source": [
    "## Step 2: Deploy the Bicep File\n",
    "\n",
    "Now, we'll execute the Bicep deployment using both the template file and parameter file. The `az deployment group create` command initiates the deployment to the specified resource group.\n",
    "\n",
    "The deployment will use:\n",
    "- **Template file**: `main.bicep` - The main infrastructure template\n",
    "- **Parameter file**: `parameters/sample.bicepparam` - Configuration values for the deployment\n",
    "\n",
    "This may take a minute or two to complete."
   ]
  },
  {
   "cell_type": "code",
   "execution_count": null,
   "metadata": {},
   "outputs": [],
   "source": []
  },
  {
   "cell_type": "code",
   "execution_count": null,
   "metadata": {},
   "outputs": [],
   "source": [
    "# Directly calling the CLI command\n",
    "!az deployment group create \\\n",
    "    --resource-group rutzsco-ai-basic-lz \\\n",
    "    --template-file main.bicep \\\n",
    "    --parameters parameters/local.bicepparam"
   ]
  }
 ],
 "metadata": {
  "kernelspec": {
   "display_name": "Python 3",
   "language": "python",
   "name": "python3"
  },
  "language_info": {
   "codemirror_mode": {
    "name": "ipython",
    "version": 3
   },
   "file_extension": ".py",
   "mimetype": "text/x-python",
   "name": "python",
   "nbconvert_exporter": "python",
   "pygments_lexer": "ipython3",
   "version": "3.11.9"
  }
 },
 "nbformat": 4,
 "nbformat_minor": 4
}
